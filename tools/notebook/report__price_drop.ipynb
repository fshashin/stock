{
 "cells": [
  {
   "cell_type": "code",
   "execution_count": 19,
   "metadata": {
    "collapsed": false
   },
   "outputs": [
    {
     "data": {
      "text/plain": [
       "<module 'moving' from '/Users/fedor/PROJECTS/Stock/tools/notebook/moving.py'>"
      ]
     },
     "execution_count": 19,
     "metadata": {},
     "output_type": "execute_result"
    }
   ],
   "source": [
    "import pandas as pd\n",
    "from importlib import reload\n",
    "import numpy as np\n",
    "import datetime\n",
    "import math\n",
    "import sys\n",
    "\n",
    "import matplotlib.pyplot as plt\n",
    "import seaborn as sns\n",
    "%matplotlib inline\n",
    "import matplotlib.dates as dates\n",
    "\n",
    "import common\n",
    "reload(common)\n",
    "import moving\n",
    "reload(moving)"
   ]
  },
  {
   "cell_type": "markdown",
   "metadata": {},
   "source": [
    "## Loading stocks prices history from './history' folder"
   ]
  },
  {
   "cell_type": "code",
   "execution_count": 10,
   "metadata": {
    "collapsed": false
   },
   "outputs": [
    {
     "name": "stdout",
     "output_type": "stream",
     "text": [
      "513 files with prices hoistory found\n",
      "513 files with prices hoistory loaded\n",
      "99096 items totaly since 2000-02-29 00:00:00 to 2018-07-13 00:00:00\n"
     ]
    }
   ],
   "source": [
    "history = common.load_history('./history')\n",
    "stocks = pd.read_csv('data/stocks.tcs', index_col=0)"
   ]
  },
  {
   "cell_type": "markdown",
   "metadata": {},
   "source": [
    "## Ignore symbols younger than 2016"
   ]
  },
  {
   "cell_type": "code",
   "execution_count": 11,
   "metadata": {
    "collapsed": false
   },
   "outputs": [
    {
     "name": "stdout",
     "output_type": "stream",
     "text": [
      "17 symbols ignored: dict_keys(['AA', 'BGIO', 'BHF', 'BHGE', 'CBH', 'DHCP', 'DLPH', 'DWDP', 'DXC', 'FTV', 'HGV', 'MFGP', 'MOSC', 'UA', 'VNE-WI', 'WELL', 'WLTW'])\n"
     ]
    }
   ],
   "source": [
    "ignored = common.younger_than(history)\n",
    "history = common.older_than(history)\n",
    "print('{} symbols ignored: {}'.format(len(ignored), ignored.keys()))"
   ]
  },
  {
   "cell_type": "markdown",
   "metadata": {},
   "source": [
    "## Append column with price ratio to symbol history."
   ]
  },
  {
   "cell_type": "markdown",
   "metadata": {},
   "source": [
    "Price ratio value for current date is a ratio of current close price to first open price in symbol history"
   ]
  },
  {
   "cell_type": "code",
   "execution_count": 9,
   "metadata": {
    "collapsed": true
   },
   "outputs": [],
   "source": [
    "def append_price_ratio_column(history):\n",
    "    for (symbol, h) in history.items():\n",
    "        h['price-ratio'] = common.values__price_ratio(h)"
   ]
  },
  {
   "cell_type": "code",
   "execution_count": null,
   "metadata": {
    "collapsed": true
   },
   "outputs": [],
   "source": []
  }
 ],
 "metadata": {
  "kernelspec": {
   "display_name": "Python 3",
   "language": "python",
   "name": "python3"
  },
  "language_info": {
   "codemirror_mode": {
    "name": "ipython",
    "version": 3
   },
   "file_extension": ".py",
   "mimetype": "text/x-python",
   "name": "python",
   "nbconvert_exporter": "python",
   "pygments_lexer": "ipython3",
   "version": "3.6.2"
  }
 },
 "nbformat": 4,
 "nbformat_minor": 0
}
